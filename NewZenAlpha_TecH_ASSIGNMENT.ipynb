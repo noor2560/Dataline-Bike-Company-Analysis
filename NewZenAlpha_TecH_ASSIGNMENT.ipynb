{
  "nbformat": 4,
  "nbformat_minor": 0,
  "metadata": {
    "colab": {
      "provenance": [],
      "authorship_tag": "ABX9TyObRlV3ngcuULS2wuEJpHQa",
      "include_colab_link": true
    },
    "kernelspec": {
      "name": "python3",
      "display_name": "Python 3"
    },
    "language_info": {
      "name": "python"
    }
  },
  "cells": [
    {
      "cell_type": "markdown",
      "metadata": {
        "id": "view-in-github",
        "colab_type": "text"
      },
      "source": [
        "<a href=\"https://colab.research.google.com/github/noor2560/Dataline-Bike-Company-Analysis/blob/main/NewZenAlpha_TecH_ASSIGNMENT.ipynb\" target=\"_parent\"><img src=\"https://colab.research.google.com/assets/colab-badge.svg\" alt=\"Open In Colab\"/></a>"
      ]
    },
    {
      "cell_type": "markdown",
      "source": [
        "Code implementation using TF-IDF for feature extraction and Random Forest as the machine learning model."
      ],
      "metadata": {
        "id": "Ypi0dmFAMkO4"
      }
    },
    {
      "cell_type": "markdown",
      "source": [
        "Import necessary libraries"
      ],
      "metadata": {
        "id": "A9QfXXTyGGgQ"
      }
    },
    {
      "cell_type": "code",
      "source": [
        "import pandas as pd\n",
        "from sklearn.model_selection import train_test_split\n",
        "from sklearn.feature_extraction.text import TfidfVectorizer\n",
        "from sklearn.ensemble import RandomForestRegressor\n",
        "from sklearn.metrics import mean_squared_error"
      ],
      "metadata": {
        "id": "_CJ-pjoSGM-x"
      },
      "execution_count": 1,
      "outputs": []
    },
    {
      "cell_type": "markdown",
      "source": [
        "Data preparartion"
      ],
      "metadata": {
        "id": "uYvaspojGQg6"
      }
    },
    {
      "cell_type": "code",
      "source": [
        "data = {\n",
        "    'responses': [\n",
        "        \"I have experience with machine learning and neural networks.\",\n",
        "        \"To solve problems, I usually analyze the data and find the best algorithms to use.\",\n",
        "        \"I can explain complex concepts in a clear and concise manner.\",\n",
        "        \"My approach involves using AI to optimize solutions.\",\n",
        "        \"I believe communication is key to explaining my strategies.\",\n",
        "        \"I have worked with various algorithms in my projects.\",\n",
        "        \"I often use analytical thinking to approach problems.\",\n",
        "        \"Machine learning is an essential part of AI.\",\n",
        "        \"Clarity in communication is important when discussing my work.\"\n",
        "    ],\n",
        "    'scores': [8, 7, 9, 8, 7, 6, 7, 9, 8]  # Example scores\n",
        "}\n",
        "\n",
        "# Create a DataFrame\n",
        "df = pd.DataFrame(data)\n",
        "\n",
        "# Split data into features and target variable\n",
        "X = df['responses']\n",
        "y = df['scores']\n",
        "\n",
        "# Split the dataset into training and testing sets\n",
        "X_train, X_test, y_train, y_test = train_test_split(X, y, test_size=0.2, random_state=42)"
      ],
      "metadata": {
        "id": "vKF_5f6oGXVm"
      },
      "execution_count": 2,
      "outputs": []
    },
    {
      "cell_type": "markdown",
      "source": [
        "FEATURE EXTRACTION - Fit and transform data"
      ],
      "metadata": {
        "id": "-GKQk68aJzXN"
      }
    },
    {
      "cell_type": "code",
      "source": [
        "# Initialize TF-IDF Vectorizer\n",
        "vectorizer = TfidfVectorizer()\n",
        "\n",
        "# Fit and transform the training data\n",
        "X_train_tfidf = vectorizer.fit_transform(X_train)\n",
        "\n",
        "# Transform the test data\n",
        "X_test_tfidf = vectorizer.transform(X_test)\n",
        "\n"
      ],
      "metadata": {
        "colab": {
          "base_uri": "https://localhost:8080/"
        },
        "id": "mW03T5poG7CA",
        "outputId": "f7924b94-660c-44eb-8340-d244474d17bc"
      },
      "execution_count": 3,
      "outputs": [
        {
          "output_type": "stream",
          "name": "stdout",
          "text": [
            "Mean Squared Error: 0.7747999999999996\n"
          ]
        }
      ]
    },
    {
      "cell_type": "markdown",
      "source": [
        "MODEL TRAINING - Initialize and train the Random Forest model"
      ],
      "metadata": {
        "id": "qPNUmP9kJ3-q"
      }
    },
    {
      "cell_type": "code",
      "source": [
        "model = RandomForestRegressor()\n",
        "model.fit(X_train_tfidf, y_train)"
      ],
      "metadata": {
        "id": "3dANXGWsJ8tX"
      },
      "execution_count": null,
      "outputs": []
    },
    {
      "cell_type": "markdown",
      "source": [
        "Predict on test data and calculate Mean Squared Error"
      ],
      "metadata": {
        "id": "xra9KUGGKFe0"
      }
    },
    {
      "cell_type": "code",
      "source": [
        "# Predict on the test set\n",
        "y_pred = model.predict(X_test_tfidf)\n",
        "\n",
        "mse = mean_squared_error(y_test, y_pred)\n",
        "print(f\"Mean Squared Error: {mse}\")"
      ],
      "metadata": {
        "id": "wvTdL-W7KPYG"
      },
      "execution_count": null,
      "outputs": []
    },
    {
      "cell_type": "code",
      "source": [
        "# Define the Candidate class\n",
        "class Candidate:\n",
        "    def __init__(self, name, responses):\n",
        "        self.name = name\n",
        "        self.responses = responses\n",
        "        self.score = 0\n",
        "\n",
        "# Function to evaluate a candidate's responses using the trained model\n",
        "def evaluate_candidate_with_model(candidate):\n",
        "    # Transform the candidate's responses to TF-IDF\n",
        "    candidate_tfidf = vectorizer.transform(candidate.responses)\n",
        "    # Predict the score using the trained model\n",
        "    candidate.score = model.predict(candidate_tfidf).mean()  # Average score from responses"
      ],
      "metadata": {
        "id": "rACv5SDOozEP"
      },
      "execution_count": 5,
      "outputs": []
    },
    {
      "cell_type": "markdown",
      "source": [
        "Mock interview responses for new candidates"
      ],
      "metadata": {
        "id": "qZPI7R8CKcWR"
      }
    },
    {
      "cell_type": "code",
      "source": [
        "candidates = [\n",
        "    Candidate(\"Alice\", [\n",
        "        \"I have experience with machine learning and neural networks.\",\n",
        "        \"To solve problems, I usually analyze the data and find the best algorithms to use.\",\n",
        "        \"I can explain complex concepts in a clear and concise manner.\"\n",
        "    ]),\n",
        "    Candidate(\"Bob\", [\n",
        "        \"My approach involves using AI to optimize solutions.\",\n",
        "        \"I believe communication is key to explaining my strategies.\",\n",
        "        \"I have worked with various algorithms in my projects.\"\n",
        "    ]),\n",
        "    Candidate(\"Charlie\", [\n",
        "        \"I often use analytical thinking to approach problems.\",\n",
        "        \"Machine learning is an essential part of AI.\",\n",
        "        \"Clarity in communication is important when discussing my work.\"\n",
        "    ])\n",
        "]"
      ],
      "metadata": {
        "id": "-U5oCe2AKhTW"
      },
      "execution_count": 6,
      "outputs": []
    },
    {
      "cell_type": "markdown",
      "source": [
        "EVALUATION - Evaluate and rank candidates using the trained model"
      ],
      "metadata": {
        "id": "qNxutiDUKlIK"
      }
    },
    {
      "cell_type": "code",
      "source": [
        "for candidate in candidates:\n",
        "    evaluate_candidate_with_model(candidate)\n",
        "\n",
        "print(\"Ranked Candidates:\")\n",
        "ranked_candidates = sorted(candidates, key=lambda x: x.score, reverse=True)\n",
        "for i, candidate in enumerate(ranked_candidates, start=1):\n",
        "    print(f\"{i}. {candidate.name} - Score: {candidate.score:.2f}\")"
      ],
      "metadata": {
        "colab": {
          "base_uri": "https://localhost:8080/"
        },
        "id": "UC6-HlPKKpwq",
        "outputId": "a23527d9-7e6d-4339-b654-b0dd7c08d6f8"
      },
      "execution_count": 7,
      "outputs": [
        {
          "output_type": "stream",
          "name": "stdout",
          "text": [
            "Ranked Candidates:\n",
            "1. Alice - Score: 8.03\n",
            "2. Charlie - Score: 7.71\n",
            "3. Bob - Score: 7.18\n"
          ]
        }
      ]
    }
  ]
}